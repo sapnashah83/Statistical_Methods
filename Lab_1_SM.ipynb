{
 "cells": [
  {
   "cell_type": "code",
   "execution_count": 1,
   "id": "d652755b",
   "metadata": {},
   "outputs": [
    {
     "name": "stdout",
     "output_type": "stream",
     "text": [
      "b. Mean of the scores: 9.00\n",
      "c. Variance of the scores: 9.25\n",
      "d. Median of the scores: 9.0\n",
      "e. Mode of the scores: 12\n",
      "f. Mean deviation of the scores: 2.75\n"
     ]
    }
   ],
   "source": [
    "def calculate_mean(scores):\n",
    "    return sum(scores) / len(scores)\n",
    "\n",
    "def calculate_variance(scores, mean):\n",
    "    return sum((x - mean) ** 2 for x in scores) / len(scores)\n",
    "\n",
    "def calculate_median(scores):\n",
    "    sorted_scores = sorted(scores)\n",
    "    n = len(scores)\n",
    "    mid = n // 2\n",
    "    return (sorted_scores[mid] + sorted_scores[mid - 1]) / 2 if n % 2 == 0 else sorted_scores[mid]\n",
    "\n",
    "def calculate_mode(scores):\n",
    "    count_dict = {}\n",
    "    for score in scores:\n",
    "        count_dict[score] = count_dict.get(score, 0) + 1\n",
    "    mode_values = [key for key, value in count_dict.items() if value == max(count_dict.values())]\n",
    "    return mode_values[0] if mode_values else None\n",
    "\n",
    "def calculate_mean_deviation(scores, mean):\n",
    "    return sum(abs(x - mean) for x in scores) / len(scores)\n",
    "\n",
    "def main():\n",
    "    # Given dataset\n",
    "    scores = [6, 7, 10, 12, 13, 4, 8, 12]\n",
    "\n",
    "    # Calculate mean and variance\n",
    "    mean_score = calculate_mean(scores)\n",
    "    variance_score = calculate_variance(scores, mean_score)\n",
    "\n",
    "    # Calculate median\n",
    "    median_score = calculate_median(scores)\n",
    "\n",
    "    # Calculate mode\n",
    "    mode_score = calculate_mode(scores)\n",
    "\n",
    "    # Calculate mean deviation\n",
    "    mean_deviation_score = calculate_mean_deviation(scores, mean_score)\n",
    "\n",
    "    # Print results\n",
    "    print(f\"b. Mean of the scores: {mean_score:.2f}\")\n",
    "    print(f\"c. Variance of the scores: {variance_score:.2f}\")\n",
    "    print(f\"d. Median of the scores: {median_score}\")\n",
    "    print(f\"e. Mode of the scores: {mode_score}\")\n",
    "    print(f\"f. Mean deviation of the scores: {mean_deviation_score:.2f}\")\n",
    "\n",
    "if __name__ == \"__main__\":\n",
    "    main()\n"
   ]
  },
  {
   "cell_type": "code",
   "execution_count": 2,
   "id": "8fcaf037",
   "metadata": {},
   "outputs": [
    {
     "name": "stdout",
     "output_type": "stream",
     "text": [
      "a. Mean: 9.00, Variance: 10.57\n",
      "b. Mean of the scores: 9.00\n",
      "c. Variance of the scores: 10.57\n",
      "d. Median of the scores: 9.0\n",
      "e. Mode of the scores: 12\n",
      "f. Mean deviation of the scores: 2.75\n"
     ]
    }
   ],
   "source": [
    "import statistics\n",
    "\n",
    "def main():\n",
    "    # Given dataset\n",
    "    scores = [6, 7, 10, 12, 13, 4, 8, 12]\n",
    "\n",
    "    # a. Find the mean and variance of the data\n",
    "    mean = statistics.mean(scores)\n",
    "    variance = statistics.variance(scores)\n",
    "\n",
    "    # b. Calculate the mean (average) of the scores\n",
    "    mean_score = mean\n",
    "\n",
    "    # c. Calculate the variance of the scores\n",
    "    variance_score = variance\n",
    "\n",
    "    # d. Calculate the median of the scores\n",
    "    median_score = statistics.median(scores)\n",
    "\n",
    "    # e. Find the mode of the scores\n",
    "    mode_score = statistics.mode(scores)\n",
    "\n",
    "    # f. Compute the mean deviation of the scores\n",
    "    mean_deviation = sum(abs(score - mean) for score in scores) / len(scores)\n",
    "\n",
    "    # Print results\n",
    "    print(f\"a. Mean: {mean:.2f}, Variance: {variance:.2f}\")\n",
    "    print(f\"b. Mean of the scores: {mean_score:.2f}\")\n",
    "    print(f\"c. Variance of the scores: {variance_score:.2f}\")\n",
    "    print(f\"d. Median of the scores: {median_score}\")\n",
    "    print(f\"e. Mode of the scores: {mode_score}\")\n",
    "    print(f\"f. Mean deviation of the scores: {mean_deviation:.2f}\")\n",
    "\n",
    "if __name__ == \"__main__\":\n",
    "    main()\n"
   ]
  },
  {
   "cell_type": "code",
   "execution_count": 3,
   "id": "ffbec80f",
   "metadata": {},
   "outputs": [
    {
     "name": "stdout",
     "output_type": "stream",
     "text": [
      "Mean of the first 10 natural numbers: 5.50\n",
      "Variance of the first 10 natural numbers: 8.25\n"
     ]
    }
   ],
   "source": [
    "#Find the mean and Variance of the data - first ‘n’ natural numbers \n",
    "def calculate_mean(numbers):\n",
    "    return sum(numbers) / len(numbers)\n",
    "\n",
    "def calculate_variance(numbers, mean):\n",
    "    return sum((x - mean) ** 2 for x in numbers) / len(numbers)\n",
    "\n",
    "def main():\n",
    "    # Define the number of natural numbers (e.g., first 10 natural numbers)\n",
    "    n = 10\n",
    "    natural_numbers = list(range(1, n + 1))\n",
    "\n",
    "    # Calculate mean and variance\n",
    "    mean_value = calculate_mean(natural_numbers)\n",
    "    variance_value = calculate_variance(natural_numbers, mean_value)\n",
    "\n",
    "    # Print results\n",
    "    print(f\"Mean of the first {n} natural numbers: {mean_value:.2f}\")\n",
    "    print(f\"Variance of the first {n} natural numbers: {variance_value:.2f}\")\n",
    "\n",
    "if __name__ == \"__main__\":\n",
    "    main()"
   ]
  },
  {
   "cell_type": "code",
   "execution_count": null,
   "id": "158c4137",
   "metadata": {},
   "outputs": [],
   "source": []
  }
 ],
 "metadata": {
  "kernelspec": {
   "display_name": "Python 3 (ipykernel)",
   "language": "python",
   "name": "python3"
  },
  "language_info": {
   "codemirror_mode": {
    "name": "ipython",
    "version": 3
   },
   "file_extension": ".py",
   "mimetype": "text/x-python",
   "name": "python",
   "nbconvert_exporter": "python",
   "pygments_lexer": "ipython3",
   "version": "3.10.9"
  }
 },
 "nbformat": 4,
 "nbformat_minor": 5
}
